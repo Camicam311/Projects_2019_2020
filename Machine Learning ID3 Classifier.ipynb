{
 "cells": [
  {
   "cell_type": "code",
   "execution_count": 294,
   "metadata": {},
   "outputs": [],
   "source": [
    "import pandas as pd \n",
    "import numpy as np \n",
    "from scipy import stats\n",
    "from pprint import pprint\n",
    "import copy"
   ]
  },
  {
   "cell_type": "markdown",
   "metadata": {},
   "source": [
    "## Task:\n",
    "Use ID3 Decision Tree to classify whether a client is likely to default on their credit card payment based on their past behaviour and other characteristics. "
   ]
  },
  {
   "cell_type": "markdown",
   "metadata": {},
   "source": [
    "# Summary\n",
    "\n",
    "## Part 1: structure of the resulting tree\n",
    "\n",
    "#### Level 1\n",
    "Type of node: internal node\n",
    "\n",
    "Rule: is 'PAYMENT_DELAY_SEPTEMBER' (Feature 5) < 0.5?\n",
    "\n",
    "Number of training data points: 2000\n",
    "\n",
    "#### Level 2\n",
    "##### train_1\n",
    "Type of node: internal node\n",
    "\n",
    "Rule: is 'LIMIT_BAL' (Feature 1) < 415000.0?\n",
    "\n",
    "Number of training data points: 1319\n",
    "\n",
    "##### train_2\n",
    "Type of node: internal node\n",
    "\n",
    "Rule: is 'PAYMENT_DELAY_SEPTEMBER' (Feature 5) < 1.5?\n",
    "\n",
    "Number of training data points: 681\n",
    "\n",
    "#### Level 3\n",
    "##### train_1_1\n",
    "Type of node: internal node\n",
    "\n",
    "Rule: is 'PAY_AMT1' (Feature 17) < 2506.5?\n",
    "\n",
    "Number of training data points: 1284\n",
    "##### train_1_2\n",
    "Type of node: internal node\n",
    "\n",
    "Rule: is 'PAY_AMT5' (Feature 21) < 208.0?\n",
    "\n",
    "Number of training data points: 35\n",
    "\n",
    "##### train_2_1\n",
    "Type of node: internal node\n",
    "\n",
    "Rule: is 'PAY_AMT4' (Feature 20) < 584.5?\n",
    "\n",
    "Number of training data points: 292\n",
    "##### train_2_2\n",
    "Type of node: internal node\n",
    "\n",
    "Rule: is 'PAY_AMT5' (Feature 21) < 2006.0?\n",
    "\n",
    "Number of training data points: 389\n",
    "\n",
    "\n",
    "## Part 2\n",
    "Get the training and test error of the classiﬁer in part (1), where test error is measured on the data in pa2test.txt\n",
    "* training error: 0.0\n",
    "* test error: 0.173\n",
    "\n",
    "## Part 3\n",
    "Prune the decision tree developed in part (1) using the data in pa2validation.txt.\n",
    "\n",
    "| Prune Round | Test Errors | Validation Errors |\n",
    "| --- | --- | --- |\n",
    "| 1 | 0.118 | 0.122 |\n",
    "| 2 | 0.103 | 0.107 |\n",
    "\n",
    "## Part 4\n",
    "Based on the features provided. Pick the most salient or prominent feature that predicts credit card default.\n",
    "\n",
    "\"PAYMENT_DELAY_SEPTEMBER\""
   ]
  },
  {
   "cell_type": "markdown",
   "metadata": {},
   "source": [
    "### loads all the txt files into tables"
   ]
  },
  {
   "cell_type": "code",
   "execution_count": 66,
   "metadata": {},
   "outputs": [],
   "source": [
    "train=np.loadtxt(\"pa2train.txt\") \n",
    "test=np.loadtxt(\"pa2test.txt\") \n",
    "validate=np.loadtxt(\"pa2validation.txt\")\n"
   ]
  },
  {
   "cell_type": "code",
   "execution_count": 3,
   "metadata": {},
   "outputs": [],
   "source": [
    "features_ = ['LIMIT_BAL','SEX','COLLEGE_ABOVE','AGE','PAYMENT_DELAY_SEPTEMBER',\n",
    "            'PAYMENT_DELAY_AUGUST','PAYMENT_DELAY_JULY','PAYMENT_DELAY_JUNE',\n",
    "            'PAYMENT_DELAY_MAY','PAYMENT_DELAY_APRIL','BILL_AMT1','BILL_AMT2',\n",
    "            'BILL_AMT3','BILL_AMT4','BILL_AMT5','BILL_AMT6','PAY_AMT1',\n",
    "            'PAY_AMT2','PAY_AMT3','PAY_AMT4','PAY_AMT5','PAY_AMT6']\n",
    "\n",
    "features = ['LIMIT_BAL','SEX','COLLEGE_ABOVE','AGE','PAYMENT_DELAY_SEPTEMBER',\n",
    "            'PAYMENT_DELAY_AUGUST','PAYMENT_DELAY_JULY','PAYMENT_DELAY_JUNE',\n",
    "            'PAYMENT_DELAY_MAY','PAYMENT_DELAY_APRIL','BILL_AMT1','BILL_AMT2',\n",
    "            'BILL_AMT3','BILL_AMT4','BILL_AMT5','BILL_AMT6','PAY_AMT1',\n",
    "            'PAY_AMT2','PAY_AMT3','PAY_AMT4','PAY_AMT5','PAY_AMT6', 'y']"
   ]
  },
  {
   "cell_type": "code",
   "execution_count": 67,
   "metadata": {},
   "outputs": [],
   "source": [
    "train = pd.DataFrame(train, columns = features)\n",
    "test_ = pd.DataFrame(test, columns = features)\n",
    "validate = pd.DataFrame(validate, columns = features)"
   ]
  },
  {
   "cell_type": "markdown",
   "metadata": {},
   "source": [
    "## Part 1\n",
    "First, build an ID3 Decision Tree classiﬁer based on the data in pa2train.txt. Draw the ﬁrst three levels decision tree that obtained. \n",
    "<img src=\"tree.PNG\" width=\"600\"/>"
   ]
  },
  {
   "cell_type": "markdown",
   "metadata": {},
   "source": [
    "### Compute Entropy for each table"
   ]
  },
  {
   "cell_type": "code",
   "execution_count": 5,
   "metadata": {},
   "outputs": [],
   "source": [
    "def entropy(a, b):\n",
    "    return -a*np.log(a) - b*np.log(b)"
   ]
  },
  {
   "cell_type": "code",
   "execution_count": 6,
   "metadata": {},
   "outputs": [],
   "source": [
    "#calculate the H(x)\n",
    "def h_x(table):\n",
    "    a = table['y'].mean()\n",
    "    if a == 1 or a == 0:\n",
    "        return 0\n",
    "    b = 1 - a\n",
    "    return entropy(a, b)"
   ]
  },
  {
   "cell_type": "markdown",
   "metadata": {},
   "source": [
    "### Pick a threshold for each column"
   ]
  },
  {
   "cell_type": "code",
   "execution_count": 7,
   "metadata": {},
   "outputs": [],
   "source": [
    "def midpoint(p1, p2):\n",
    "    return (p1+p2)/2"
   ]
  },
  {
   "cell_type": "code",
   "execution_count": 8,
   "metadata": {},
   "outputs": [],
   "source": [
    "def all_thd(table, col):\n",
    "    values = sorted(table[col].unique())\n",
    "    if len(values) == 1:\n",
    "        return values\n",
    "    psb_thd = []\n",
    "    for i in range(len(values)-1):\n",
    "        psb_thd.append(midpoint(values[i], values[i+1]))\n",
    "    return psb_thd"
   ]
  },
  {
   "cell_type": "code",
   "execution_count": 9,
   "metadata": {},
   "outputs": [
    {
     "data": {
      "text/plain": [
       "0.0005"
      ]
     },
     "execution_count": 9,
     "metadata": {},
     "output_type": "execute_result"
    }
   ],
   "source": [
    "1/np.float(train.shape[0])"
   ]
  },
  {
   "cell_type": "code",
   "execution_count": 10,
   "metadata": {},
   "outputs": [],
   "source": [
    "# select the best threshold for one column\n",
    "def threshold(table, col, H_x):  \n",
    "    rows = table.shape[0]\n",
    "    candidates = all_thd(table, col)\n",
    "    gains = []\n",
    "    for thd in candidates:\n",
    "        #H(y|col < threshold)\n",
    "        a = table[table[col] < thd]\n",
    "        prctg_a = a.shape[0]/np.float(rows)\n",
    "        entropy_a = h_x(a)\n",
    "        \n",
    "        #H(y|col >= threshold)\n",
    "        b = table[table[col] >= thd]\n",
    "        prctg_b = b.shape[0]/np.float(rows)\n",
    "        entropy_b = h_x(b)\n",
    "        \n",
    "        #information gain = H(y) - H(y|col) \n",
    "        #= H(y) - P(y|col < threshold)H(y|col < threshold) - P(y|col >= threshold)H(y|col >= threshold)\n",
    "        entropy = prctg_a*entropy_a + prctg_b * entropy_b\n",
    "        gain = H_x - entropy\n",
    "        gains.append((gain, thd, col))\n",
    "    return max(gains)"
   ]
  },
  {
   "cell_type": "markdown",
   "metadata": {},
   "source": [
    "### Select the column that produces the largest information gain"
   ]
  },
  {
   "cell_type": "code",
   "execution_count": 11,
   "metadata": {},
   "outputs": [],
   "source": [
    "# select the best column to devide the nodes\n",
    "def select_col(table):\n",
    "    H_x = h_x(table)\n",
    "    gains = []\n",
    "    for col in features_:\n",
    "        if len(table[col].unique()) > 1:\n",
    "            # the gains is a list of (information gain, thredhold value, column name)\n",
    "            gains.append(threshold(table, col, H_x))\n",
    "    return max(gains)"
   ]
  },
  {
   "cell_type": "markdown",
   "metadata": {},
   "source": [
    "#### Level 1\n",
    "Type of node: internal node\n",
    "\n",
    "Rule: is 'PAYMENT_DELAY_SEPTEMBER' (Feature 5) < 0.5?\n",
    "\n",
    "Number of training data points: 2000\n"
   ]
  },
  {
   "cell_type": "code",
   "execution_count": 12,
   "metadata": {},
   "outputs": [
    {
     "data": {
      "text/plain": [
       "0.4045"
      ]
     },
     "execution_count": 12,
     "metadata": {},
     "output_type": "execute_result"
    }
   ],
   "source": [
    "#leaf node or internal node: internal node\n",
    "train['y'].mean()"
   ]
  },
  {
   "cell_type": "code",
   "execution_count": 13,
   "metadata": {},
   "outputs": [
    {
     "data": {
      "text/plain": [
       "2000"
      ]
     },
     "execution_count": 13,
     "metadata": {},
     "output_type": "execute_result"
    }
   ],
   "source": [
    "#number of training data points\n",
    "train.shape[0]"
   ]
  },
  {
   "cell_type": "code",
   "execution_count": 14,
   "metadata": {
    "scrolled": false
   },
   "outputs": [
    {
     "data": {
      "text/plain": [
       "(0.344855120571936, 0.5, 'PAYMENT_DELAY_SEPTEMBER')"
      ]
     },
     "execution_count": 14,
     "metadata": {},
     "output_type": "execute_result"
    }
   ],
   "source": [
    "select_col(train)"
   ]
  },
  {
   "cell_type": "markdown",
   "metadata": {},
   "source": [
    "#### Level 2\n",
    "##### train_1\n",
    "Type of node: internal node\n",
    "\n",
    "Rule: is 'LIMIT_BAL' (Feature 1) < 415000.0?\n",
    "\n",
    "Number of training data points: 1319\n",
    "\n",
    "##### train_2\n",
    "Type of node: internal node\n",
    "\n",
    "Rule: is 'PAYMENT_DELAY_SEPTEMBER' (Feature 5) < 1.5?\n",
    "\n",
    "Number of training data points: 681\n"
   ]
  },
  {
   "cell_type": "code",
   "execution_count": 15,
   "metadata": {},
   "outputs": [],
   "source": [
    "def split(table, col, thd):\n",
    "    a = table[table[col] < thd]\n",
    "    b = table[table[col] >= thd]\n",
    "    return (a, b)"
   ]
  },
  {
   "cell_type": "code",
   "execution_count": 16,
   "metadata": {},
   "outputs": [],
   "source": [
    "def pure(table):\n",
    "    y = table['y'].mean()\n",
    "    return y == 1.0 or y == 0.0"
   ]
  },
  {
   "cell_type": "code",
   "execution_count": 17,
   "metadata": {},
   "outputs": [],
   "source": [
    "def leaf(table):\n",
    "    return table['y'].mean()"
   ]
  },
  {
   "cell_type": "code",
   "execution_count": 18,
   "metadata": {},
   "outputs": [],
   "source": [
    "#split the table into two tables\n",
    "train_1, train_2 = split(train, 'PAYMENT_DELAY_SEPTEMBER', 0.5) \n"
   ]
  },
  {
   "cell_type": "code",
   "execution_count": 19,
   "metadata": {},
   "outputs": [
    {
     "data": {
      "text/plain": [
       "(False, False)"
      ]
     },
     "execution_count": 19,
     "metadata": {},
     "output_type": "execute_result"
    }
   ],
   "source": [
    "# train_1: internal node\n",
    "# train_2: internal node\n",
    "pure(train_1), pure(train_2)"
   ]
  },
  {
   "cell_type": "code",
   "execution_count": 20,
   "metadata": {},
   "outputs": [
    {
     "data": {
      "text/plain": [
       "(1319, 681)"
      ]
     },
     "execution_count": 20,
     "metadata": {},
     "output_type": "execute_result"
    }
   ],
   "source": [
    "#number of training data points\n",
    "train_1.shape[0], train_2.shape[0]"
   ]
  },
  {
   "cell_type": "code",
   "execution_count": 21,
   "metadata": {
    "scrolled": true
   },
   "outputs": [
    {
     "data": {
      "text/plain": [
       "((0.005227179101954915, 415000.0, 'LIMIT_BAL'),\n",
       " (0.012062266280332717, 1.5, 'PAYMENT_DELAY_SEPTEMBER'))"
      ]
     },
     "execution_count": 21,
     "metadata": {},
     "output_type": "execute_result"
    }
   ],
   "source": [
    "# get the splitting rules\n",
    "select_col(train_1), select_col(train_2)"
   ]
  },
  {
   "cell_type": "markdown",
   "metadata": {},
   "source": [
    "#### Level 3\n",
    "##### train_1_1\n",
    "Type of node: internal node\n",
    "\n",
    "Rule: is 'PAY_AMT1' (Feature 17) < 2506.5?\n",
    "\n",
    "Number of training data points: 1284\n",
    "##### train_1_2\n",
    "Type of node: internal node\n",
    "\n",
    "Rule: is 'PAY_AMT5' (Feature 21) < 208.0?\n",
    "\n",
    "Number of training data points: 35\n",
    "\n",
    "##### train_2_1\n",
    "Type of node: internal node\n",
    "\n",
    "Rule: is 'PAY_AMT4' (Feature 20) < 584.5?\n",
    "\n",
    "Number of training data points: 292\n",
    "##### train_2_2\n",
    "Type of node: internal node\n",
    "\n",
    "Rule: is 'PAY_AMT5' (Feature 21) < 2006.0?\n",
    "\n",
    "Number of training data points: 389\n"
   ]
  },
  {
   "cell_type": "code",
   "execution_count": 22,
   "metadata": {},
   "outputs": [],
   "source": [
    "#split each table into two tables\n",
    "train_1_1, train_1_2 = split(train_1, 'LIMIT_BAL', 415000.0) \n",
    "train_2_1, train_2_2 = split(train_2, 'PAYMENT_DELAY_SEPTEMBER', 1.5) \n"
   ]
  },
  {
   "cell_type": "code",
   "execution_count": 23,
   "metadata": {},
   "outputs": [
    {
     "data": {
      "text/plain": [
       "(False, False, False, False)"
      ]
     },
     "execution_count": 23,
     "metadata": {},
     "output_type": "execute_result"
    }
   ],
   "source": [
    "# train_1_1: internal node\n",
    "# train_1_2: internal node\n",
    "# train_2_1: internal node\n",
    "# train_2_2: internal node\n",
    "pure(train_1_1), pure(train_1_2), pure(train_2_1), pure(train_2_2)"
   ]
  },
  {
   "cell_type": "code",
   "execution_count": 24,
   "metadata": {},
   "outputs": [
    {
     "data": {
      "text/plain": [
       "(1284, 35, 292, 389)"
      ]
     },
     "execution_count": 24,
     "metadata": {},
     "output_type": "execute_result"
    }
   ],
   "source": [
    "#number of training data points\n",
    "train_1_1.shape[0], train_1_2.shape[0], train_2_1.shape[0], train_2_2.shape[0]"
   ]
  },
  {
   "cell_type": "code",
   "execution_count": 25,
   "metadata": {},
   "outputs": [
    {
     "data": {
      "text/plain": [
       "((0.005966465303340829, 2506.5, 'PAY_AMT1'),\n",
       " (0.1261216674890271, 208.0, 'PAY_AMT5'),\n",
       " (0.01356916405468872, 584.5, 'PAY_AMT4'),\n",
       " (0.007171249081838776, 2006.0, 'PAY_AMT5'))"
      ]
     },
     "execution_count": 25,
     "metadata": {},
     "output_type": "execute_result"
    }
   ],
   "source": [
    "# get the splitting rule\n",
    "select_col(train_1_1), select_col(train_1_2), select_col(train_2_1), select_col(train_2_2)"
   ]
  },
  {
   "cell_type": "markdown",
   "metadata": {},
   "source": [
    "#### Get the whole tree algorithm"
   ]
  },
  {
   "cell_type": "code",
   "execution_count": 33,
   "metadata": {},
   "outputs": [],
   "source": [
    "def ID3(df, df_):\n",
    "    if pure(df):\n",
    "        return leaf(df)\n",
    "    elif len(df) == 0:\n",
    "        return stats.mode(df_[target])[0][0]\n",
    "    else:\n",
    "        rule = select_col(df)\n",
    "        # get the column name\n",
    "        col = rule[2]\n",
    "        # get the threhold\n",
    "        thd = rule[1]\n",
    "        dfs = split(df, col, thd)\n",
    "        \n",
    "        tree = {col: {}}\n",
    "        for i in range(2):\n",
    "            subtree = ID3(dfs[i], df)\n",
    "            # (0, thd) means < thd\n",
    "            # (1, thd) means > thd\n",
    "            tree[col][(i, thd)] = subtree\n",
    "        return tree"
   ]
  },
  {
   "cell_type": "markdown",
   "metadata": {},
   "source": [
    "### Get the tree without pruning"
   ]
  },
  {
   "cell_type": "code",
   "execution_count": 341,
   "metadata": {},
   "outputs": [
    {
     "name": "stdout",
     "output_type": "stream",
     "text": [
      "{'PAYMENT_DELAY_SEPTEMBER': {(0, 0.5): {'LIMIT_BAL': {(0, 415000.0): {'PAY_AMT1': {(0, 2506.5): {'LIMIT_BAL': {(0, 75000.0): {'BILL_AMT3': {(0, 46620.5): {'LIMIT_BAL': {(0, 25000.0): {'PAY_AMT6': {(0, 646.0): {'PAY_AMT2': {(0, 1348.5): {'BILL_AMT2': {(0, 7776.0): 0.0,\n",
      "                                                                                                                                                                                                                                                           (1, 7776.0): {'PAY_AMT6': {(0, 97.5): {'BILL_AMT3': {(0, 4860.0): {'BILL_AMT1': {(0, 19512.5): 0.0,\n",
      "                                                                                                                                                                                                                                                                                                                                            (1, 19512.5): 1.0}},\n",
      "                                                                                                                                                                                                                                                                                                                (1, 4860.0): 1.0}},\n",
      "                                                                                                                                                                                                                                                                                      (1, 97.5): {'BILL_AMT4': {(0, 9437.5): 1.0,\n",
      "                                                                                                                                                                                                                                                                                                                (1, 9437.5): 0.0}}}}}},\n",
      "                                                                                                                                                                                                                               (1, 1348.5): 0.0}},\n",
      "                                                                                                                                                                                                     (1, 646.0): {'PAY_AMT1': {(0, 1583.5): {'PAY_AMT6': {(0, 867.5): 1.0,\n",
      "                                                                                                                                                                                                                                                          (1, 867.5): {'BILL_AMT6': {(0, 81.0): {'PAY_AMT3': {(0, 2058.0): 1.0,\n",
      "                                                                                                                                                                                                                                                                                                              (1, 2058.0): 0.0}},\n",
      "                                                                                                                                                                                                                                                                                     (1, 81.0): 0.0}}}},\n",
      "                                                                                                                                                                                                                               (1, 1583.5): 1.0}}}},\n",
      "                                                                                                                                                                         (1, 25000.0): {'BILL_AMT2': {(0, 16815.5): {'PAY_AMT6': {(0, 1514.0): {'PAY_AMT1': {(0, 1641.0): {'BILL_AMT1': {(0, 46792.5): {'PAY_AMT5': {(0, 198.0): {'PAYMENT_DELAY_AUGUST': {(0, 1.0): {'PAY_AMT6': {(0, 1359.5): {'BILL_AMT5': {(0, -490.0): 1.0,\n",
      "                                                                                                                                                                                                                                                                                                                                                                                                               (1, -490.0): {'BILL_AMT1': {(0, 2973.0): {'BILL_AMT1': {(0, 785.5): 0.0,\n",
      "                                                                                                                                                                                                                                                                                                                                                                                                                                                                       (1, 785.5): {'PAY_AMT1': {(0, 767.5): 1.0,\n",
      "                                                                                                                                                                                                                                                                                                                                                                                                                                                                                                 (1, 767.5): 0.0}}}},\n",
      "                                                                                                                                                                                                                                                                                                                                                                                                                                           (1, 2973.0): 0.0}}}},\n",
      "                                                                                                                                                                                                                                                                                                                                                                                   (1, 1359.5): 1.0}},\n",
      "                                                                                                                                                                                                                                                                                                                                                           (1, 1.0): {'BILL_AMT5': {(0, 2298.5): {'BILL_AMT1': {(0, 1328.0): 1.0,\n",
      "                                                                                                                                                                                                                                                                                                                                                                                                                (1, 1328.0): 0.0}},\n",
      "                                                                                                                                                                                                                                                                                                                                                                                    (1, 2298.5): 1.0}}}},\n",
      "                                                                                                                                                                                                                                                                                                                     (1, 198.0): {'PAY_AMT6': {(0, 1206.5): 0.0,\n",
      "                                                                                                                                                                                                                                                                                                                                               (1, 1206.5): {'BILL_AMT6': {(0, 14151.0): 1.0,\n",
      "                                                                                                                                                                                                                                                                                                                                                                           (1, 14151.0): 0.0}}}}}},\n",
      "                                                                                                                                                                                                                                                                                         (1, 46792.5): 1.0}},\n",
      "                                                                                                                                                                                                                                                             (1, 1641.0): {'BILL_AMT4': {(0, 5583.0): {'BILL_AMT5': {(0, 1027.0): {'PAY_AMT2': {(0, 825.5): 0.0,\n",
      "                                                                                                                                                                                                                                                                                                                                                (1, 825.5): 1.0}},\n",
      "                                                                                                                                                                                                                                                                                                                     (1, 1027.0): 0.0}},\n",
      "                                                                                                                                                                                                                                                                                         (1, 5583.0): 1.0}}}},\n",
      "                                                                                                                                                                                                                                  (1, 1514.0): 0.0}},\n",
      "                                                                                                                                                                                                      (1, 16815.5): {'PAY_AMT5': {(0, 25552.5): {'AGE': {(0, 2.5): {'BILL_AMT4': {(0, 25530.0): {'BILL_AMT6': {(0, 21960.5): 0.0,\n",
      "                                                                                                                                                                                                                                                                                                               (1, 21960.5): {'BILL_AMT5': {(0, 21774.5): 1.0,\n",
      "                                                                                                                                                                                                                                                                                                                                            (1, 21774.5): {'BILL_AMT4': {(0, 25477.5): 0.0,\n",
      "                                                                                                                                                                                                                                                                                                                                                                         (1, 25477.5): 1.0}}}}}},\n",
      "                                                                                                                                                                                                                                                                                  (1, 25530.0): 0.0}},\n",
      "                                                                                                                                                                                                                                                         (1, 2.5): 1.0}},\n",
      "                                                                                                                                                                                                                                  (1, 25552.5): 1.0}}}}}},\n",
      "                                                                                                                                            (1, 46620.5): {'SEX': {(0, 1.5): {'BILL_AMT2': {(0, 59305.0): {'BILL_AMT3': {(0, 49649.5): 1.0,\n",
      "                                                                                                                                                                                                                         (1, 49649.5): {'BILL_AMT6': {(0, 28057.0): 0.0,\n",
      "                                                                                                                                                                                                                                                      (1, 28057.0): 1.0}}}},\n",
      "                                                                                                                                                                                            (1, 59305.0): 0.0}},\n",
      "                                                                                                                                                                   (1, 1.5): {'BILL_AMT1': {(0, 50823.5): 0.0,\n",
      "                                                                                                                                                                                            (1, 50823.5): {'AGE': {(0, 1.5): {'BILL_AMT1': {(0, 59051.0): 1.0,\n",
      "                                                                                                                                                                                                                                            (1, 59051.0): {'BILL_AMT1': {(0, 59905.5): 0.0,\n",
      "                                                                                                                                                                                                                                                                         (1, 59905.5): 1.0}}}},\n",
      "                                                                                                                                                                                                                   (1, 1.5): {'LIMIT_BAL': {(0, 55000.0): 1.0,\n",
      "                                                                                                                                                                                                                                            (1, 55000.0): 0.0}}}}}}}}}},\n",
      "                                                                                                               (1, 75000.0): {'LIMIT_BAL': {(0, 115000.0): {'BILL_AMT1': {(0, 668.5): {'PAYMENT_DELAY_AUGUST': {(0, 1.0): 1.0,\n",
      "                                                                                                                                                                                                                (1, 1.0): {'LIMIT_BAL': {(0, 85000.0): 1.0,\n",
      "                                                                                                                                                                                                                                         (1, 85000.0): 0.0}}}},\n",
      "                                                                                                                                                                          (1, 668.5): {'PAY_AMT1': {(0, 1340.0): 0.0,\n",
      "                                                                                                                                                                                                    (1, 1340.0): {'PAY_AMT1': {(0, 1919.0): {'BILL_AMT6': {(0, 24869.0): {'BILL_AMT5': {(0, 15542.5): 1.0,\n",
      "                                                                                                                                                                                                                                                                                        (1, 15542.5): 0.0}},\n",
      "                                                                                                                                                                                                                                                           (1, 24869.0): 1.0}},\n",
      "                                                                                                                                                                                                                               (1, 1919.0): 0.0}}}}}},\n",
      "                                                                                                                                            (1, 115000.0): {'LIMIT_BAL': {(0, 125000.0): 0.0,\n",
      "                                                                                                                                                                          (1, 125000.0): {'PAY_AMT6': {(0, 2888.5): {'BILL_AMT1': {(0, 19215.0): {'LIMIT_BAL': {(0, 185000.0): {'PAY_AMT6': {(0, 1189.0): {'PAY_AMT6': {(0, 656.5): {'BILL_AMT5': {(0, 16077.5): {'PAY_AMT3': {(0, 343.0): {'LIMIT_BAL': {(0, 150000.0): {'LIMIT_BAL': {(0, 135000.0): {'BILL_AMT1': {(0, 2790.0): 0.0,\n",
      "                                                                                                                                                                                                                                                                                                                                                                                                                                                                      (1, 2790.0): 1.0}},\n",
      "                                                                                                                                                                                                                                                                                                                                                                                                                                        (1, 135000.0): 0.0}},\n",
      "                                                                                                                                                                                                                                                                                                                                                                                                          (1, 150000.0): {'BILL_AMT1': {(0, 1240.0): {'LIMIT_BAL': {(0, 175000.0): {'BILL_AMT1': {(0, 512.5): 1.0,\n",
      "                                                                                                                                                                                                                                                                                                                                                                                                                                                                                                  (1, 512.5): 0.0}},\n",
      "                                                                                                                                                                                                                                                                                                                                                                                                                                                                    (1, 175000.0): 0.0}},\n",
      "                                                                                                                                                                                                                                                                                                                                                                                                                                        (1, 1240.0): 1.0}}}},\n",
      "                                                                                                                                                                                                                                                                                                                                                                               (1, 343.0): 0.0}},\n",
      "                                                                                                                                                                                                                                                                                                                                                   (1, 16077.5): 1.0}},\n",
      "                                                                                                                                                                                                                                                                                                                        (1, 656.5): {'LIMIT_BAL': {(0, 155000.0): {'PAY_AMT1': {(0, 195.0): 1.0,\n",
      "                                                                                                                                                                                                                                                                                                                                                                                (1, 195.0): 0.0}},\n",
      "                                                                                                                                                                                                                                                                                                                                                   (1, 155000.0): 1.0}}}},\n",
      "                                                                                                                                                                                                                                                                                             (1, 1189.0): 0.0}},\n"
     ]
    },
    {
     "name": "stdout",
     "output_type": "stream",
     "text": [
      "                                                                                                                                                                                                                                                                (1, 185000.0): {'PAY_AMT4': {(0, 1728.0): {'BILL_AMT6': {(0, 2474.5): {'LIMIT_BAL': {(0, 205000.0): {'BILL_AMT5': {(0, -354.0): 1.0,\n",
      "                                                                                                                                                                                                                                                                                                                                                                                   (1, -354.0): 0.0}},\n",
      "                                                                                                                                                                                                                                                                                                                                                     (1, 205000.0): {'BILL_AMT1': {(0, 7715.5): {'AGE': {(0, 1.5): {'BILL_AMT1': {(0, 237.5): {'BILL_AMT1': {(0, 50.5): 0.0,\n",
      "                                                                                                                                                                                                                                                                                                                                                                                                                                                             (1, 50.5): 1.0}},\n",
      "                                                                                                                                                                                                                                                                                                                                                                                                                                  (1, 237.5): 0.0}},\n",
      "                                                                                                                                                                                                                                                                                                                                                                                                         (1, 1.5): {'LIMIT_BAL': {(0, 330000.0): {'SEX': {(0, 1.5): {'PAY_AMT2': {(0, 390.0): 1.0,\n",
      "                                                                                                                                                                                                                                                                                                                                                                                                                                                                                  (1, 390.0): 0.0}},\n",
      "                                                                                                                                                                                                                                                                                                                                                                                                                                                          (1, 1.5): {'BILL_AMT2': {(0, 1246.5): 0.0,\n",
      "                                                                                                                                                                                                                                                                                                                                                                                                                                                                                   (1, 1246.5): {'PAY_AMT1': {(0, 1669.5): 1.0,\n",
      "                                                                                                                                                                                                                                                                                                                                                                                                                                                                                                              (1, 1669.5): 0.0}}}}}},\n",
      "                                                                                                                                                                                                                                                                                                                                                                                                                                  (1, 330000.0): 1.0}}}},\n",
      "                                                                                                                                                                                                                                                                                                                                                                                   (1, 7715.5): 1.0}}}},\n",
      "                                                                                                                                                                                                                                                                                                                         (1, 2474.5): {'BILL_AMT1': {(0, 10893.0): {'BILL_AMT1': {(0, 640.0): 1.0,\n",
      "                                                                                                                                                                                                                                                                                                                                                                                  (1, 640.0): 0.0}},\n",
      "                                                                                                                                                                                                                                                                                                                                                     (1, 10893.0): 1.0}}}},\n",
      "                                                                                                                                                                                                                                                                                             (1, 1728.0): 0.0}}}},\n",
      "                                                                                                                                                                                                                                   (1, 19215.0): 0.0}},\n",
      "                                                                                                                                                                                                       (1, 2888.5): {'LIMIT_BAL': {(0, 190000.0): {'PAY_AMT6': {(0, 8865.0): {'PAY_AMT2': {(0, 10331.5): 1.0,\n",
      "                                                                                                                                                                                                                                                                                           (1, 10331.5): 0.0}},\n",
      "                                                                                                                                                                                                                                                                (1, 8865.0): 0.0}},\n",
      "                                                                                                                                                                                                                                   (1, 190000.0): {'BILL_AMT1': {(0, 49829.0): {'PAY_AMT6': {(0, 10234.5): {'BILL_AMT2': {(0, 4137.5): 0.0,\n",
      "                                                                                                                                                                                                                                                                                                                          (1, 4137.5): {'BILL_AMT4': {(0, 4485.5): 1.0,\n",
      "                                                                                                                                                                                                                                                                                                                                                      (1, 4485.5): 0.0}}}},\n",
      "                                                                                                                                                                                                                                                                                             (1, 10234.5): {'BILL_AMT5': {(0, 10768.0): {'LIMIT_BAL': {(0, 330000.0): {'PAY_AMT1': {(0, 2115.5): 1.0,\n",
      "                                                                                                                                                                                                                                                                                                                                                                                    (1, 2115.5): 0.0}},\n",
      "                                                                                                                                                                                                                                                                                                                                                       (1, 330000.0): 0.0}},\n",
      "                                                                                                                                                                                                                                                                                                                          (1, 10768.0): {'PAY_AMT6': {(0, 133167.0): 0.0,\n",
      "                                                                                                                                                                                                                                                                                                                                                      (1, 133167.0): 1.0}}}}}},\n",
      "                                                                                                                                                                                                                                                                 (1, 49829.0): 1.0}}}}}}}}}}}},\n",
      "                                                                                   (1, 2506.5): {'LIMIT_BAL': {(0, 25000.0): {'PAY_AMT3': {(0, 750.0): 1.0,\n",
      "                                                                                                                                           (1, 750.0): 0.0}},\n",
      "                                                                                                               (1, 25000.0): {'PAY_AMT2': {(0, 14935.5): {'BILL_AMT2': {(0, 204348.0): {'BILL_AMT1': {(0, 146305.0): {'PAY_AMT2': {(0, 10835.5): {'PAY_AMT5': {(0, 809.5): {'PAY_AMT1': {(0, 3153.5): {'BILL_AMT6': {(0, 7723.0): {'PAY_AMT1': {(0, 3067.0): 0.0,\n",
      "                                                                                                                                                                                                                                                                                                                                                (1, 3067.0): 1.0}},\n",
      "                                                                                                                                                                                                                                                                                                                     (1, 7723.0): {'PAYMENT_DELAY_APRIL': {(0, 1.0): 0.0,\n",
      "                                                                                                                                                                                                                                                                                                                                                           (1, 1.0): {'PAY_AMT2': {(0, 3835.5): 1.0,\n",
      "                                                                                                                                                                                                                                                                                                                                                                                   (1, 3835.5): 0.0}}}}}},\n",
      "                                                                                                                                                                                                                                                                                         (1, 3153.5): {'PAY_AMT3': {(0, 35025.5): {'PAYMENT_DELAY_AUGUST': {(0, 1.0): {'PAY_AMT2': {(0, 2084.5): 0.0,\n",
      "                                                                                                                                                                                                                                                                                                                                                                                    (1, 2084.5): {'PAY_AMT2': {(0, 3745.0): {'BILL_AMT6': {(0, 3944.0): {'BILL_AMT1': {(0, 2169.0): 1.0,\n",
      "                                                                                                                                                                                                                                                                                                                                                                                                                                                                       (1, 2169.0): 0.0}},\n",
      "                                                                                                                                                                                                                                                                                                                                                                                                                                           (1, 3944.0): 1.0}},\n",
      "                                                                                                                                                                                                                                                                                                                                                                                                               (1, 3745.0): 0.0}}}},\n",
      "                                                                                                                                                                                                                                                                                                                                                            (1, 1.0): 1.0}},\n",
      "                                                                                                                                                                                                                                                                                                                    (1, 35025.5): {'BILL_AMT4': {(0, 55535.5): 1.0,\n",
      "                                                                                                                                                                                                                                                                                                                                                 (1, 55535.5): 0.0}}}}}},\n",
      "                                                                                                                                                                                                                                                               (1, 809.5): {'BILL_AMT1': {(0, 1809.5): {'BILL_AMT6': {(0, 4690.5): 0.0,\n",
      "                                                                                                                                                                                                                                                                                                                      (1, 4690.5): {'PAY_AMT1': {(0, 6474.5): 1.0,\n",
      "                                                                                                                                                                                                                                                                                                                                                 (1, 6474.5): {'PAY_AMT1': {(0, 48957.0): 0.0,\n",
      "                                                                                                                                                                                                                                                                                                                                                                            (1, 48957.0): 1.0}}}}}},\n",
      "                                                                                                                                                                                                                                                                                          (1, 1809.5): {'PAY_AMT5': {(0, 4002.5): {'PAY_AMT5': {(0, 3324.5): {'BILL_AMT6': {(0, 38724.0): 0.0,\n",
      "                                                                                                                                                                                                                                                                                                                                                                            (1, 38724.0): {'LIMIT_BAL': {(0, 85000.0): {'PAY_AMT2': {(0, 500.0): 1.0,\n",
      "                                                                                                                                                                                                                                                                                                                                                                                                                                     (1, 500.0): {'LIMIT_BAL': {(0, 75000.0): {'BILL_AMT6': {(0, 38969.0): 1.0,\n",
      "                                                                                                                                                                                                                                                                                                                                                                                                                                                                                             (1, 38969.0): 0.0}},\n",
      "                                                                                                                                                                                                                                                                                                                                                                                                                                                                (1, 75000.0): {'BILL_AMT3': {(0, 80481.5): 1.0,\n",
      "                                                                                                                                                                                                                                                                                                                                                                                                                                                                                             (1, 80481.5): 0.0}}}}}},\n",
      "                                                                                                                                                                                                                                                                                                                                                                                                         (1, 85000.0): 0.0}}}},\n",
      "                                                                                                                                                                                                                                                                                                                                                (1, 3324.5): {'BILL_AMT6': {(0, 99997.0): {'BILL_AMT3': {(0, 93450.5): {'BILL_AMT1': {(0, 4412.0): 1.0,\n",
      "                                                                                                                                                                                                                                                                                                                                                                                                                                      (1, 4412.0): 0.0}},\n",
      "                                                                                                                                                                                                                                                                                                                                                                                                         (1, 93450.5): {'BILL_AMT4': {(0, 104732.5): 1.0,\n",
      "                                                                                                                                                                                                                                                                                                                                                                                                                                      (1, 104732.5): 0.0}}}},\n",
      "                                                                                                                                                                                                                                                                                                                                                                            (1, 99997.0): 0.0}}}},\n",
      "                                                                                                                                                                                                                                                                                                                     (1, 4002.5): 0.0}}}}}},\n",
      "                                                                                                                                                                                                                                   (1, 10835.5): {'BILL_AMT3': {(0, 14402.0): 0.0,\n",
      "                                                                                                                                                                                                                                                                (1, 14402.0): {'BILL_AMT5': {(0, 136412.0): 1.0,\n",
      "                                                                                                                                                                                                                                                                                             (1, 136412.0): 0.0}}}}}},\n",
      "                                                                                                                                                                                                      (1, 146305.0): {'PAY_AMT3': {(0, 4502.5): {'BILL_AMT5': {(0, 95643.0): {'BILL_AMT3': {(0, 78674.5): 1.0,\n",
      "                                                                                                                                                                                                                                                                                            (1, 78674.5): 0.0}},\n",
      "                                                                                                                                                                                                                                                               (1, 95643.0): 1.0}},\n",
      "                                                                                                                                                                                                                                   (1, 4502.5): {'PAY_AMT3': {(0, 9000.0): {'BILL_AMT6': {(0, 194572.5): 0.0,\n",
      "                                                                                                                                                                                                                                                                                          (1, 194572.5): 1.0}},\n",
      "                                                                                                                                                                                                                                                              (1, 9000.0): {'BILL_AMT4': {(0, 190927.5): 1.0,\n",
      "                                                                                                                                                                                                                                                                                          (1, 190927.5): 0.0}}}}}}}},\n",
      "                                                                                                                                                                        (1, 204348.0): 0.0}},\n",
      "                                                                                                                                           (1, 14935.5): 0.0}}}}}},\n",
      "                                                      (1, 415000.0): {'PAY_AMT5': {(0, 208.0): 1.0,\n",
      "                                                                                   (1, 208.0): {'PAY_AMT1': {(0, 2174.0): 0.0,\n",
      "                                                                                                             (1, 2174.0): {'PAY_AMT6': {(0, 2121.5): 1.0,\n",
      "                                                                                                                                        (1, 2121.5): {'LIMIT_BAL': {(0, 475000.0): {'PAY_AMT5': {(0, 20540.5): 1.0,\n",
      "                                                                                                                                                                                                 (1, 20540.5): 0.0}},\n",
      "                                                                                                                                                                    (1, 475000.0): {'PAY_AMT3': {(0, 63135.0): 0.0,\n",
      "                                                                                                                                                                                                 (1, 63135.0): 1.0}}}}}}}}}}}},\n",
      "                             (1, 0.5): {'PAYMENT_DELAY_SEPTEMBER': {(0, 1.5): {'PAY_AMT4': {(0, 584.5): {'BILL_AMT2': {(0, 231.5): {'AGE': {(0, 2.5): {'LIMIT_BAL': {(0, 190000.0): 1.0,\n",
      "                                                                                                                                                                     (1, 190000.0): {'COLLEGE_ABOVE': {(0, 0.5): {'LIMIT_BAL': {(0, 290000.0): {'LIMIT_BAL': {(0, 255000.0): 1.0,\n",
      "                                                                                                                                                                                                                                                              (1, 255000.0): 0.0}},\n",
      "                                                                                                                                                                                                                                (1, 290000.0): 1.0}},\n",
      "                                                                                                                                                                                                       (1, 0.5): {'PAY_AMT6': {(0, 839.5): 1.0,\n",
      "                                                                                                                                                                                                                               (1, 839.5): {'LIMIT_BAL': {(0, 220000.0): 0.0,\n",
      "                                                                                                                                                                                                                                                          (1, 220000.0): 1.0}}}}}}}},\n",
      "                                                                                                                                            (1, 2.5): 0.0}},\n",
      "                                                                                                                       (1, 231.5): {'BILL_AMT2': {(0, 316.0): 0.0,\n",
      "                                                                                                                                                  (1, 316.0): {'PAY_AMT2': {(0, 6372.5): {'COLLEGE_ABOVE': {(0, 0.5): {'LIMIT_BAL': {(0, 25000.0): 1.0,\n",
      "                                                                                                                                                                                                                                     (1, 25000.0): {'PAYMENT_DELAY_JUNE': {(0, 1.0): {'LIMIT_BAL': {(0, 250000.0): {'BILL_AMT3': {(0, 36038.5): 0.0,\n",
      "                                                                                                                                                                                                                                                                                                                                  (1, 36038.5): 1.0}},\n",
      "                                                                                                                                                                                                                                                                                                    (1, 250000.0): 1.0}},\n",
      "                                                                                                                                                                                                                                                                           (1, 1.0): 1.0}}}},\n",
      "                                                                                                                                                                                                            (1, 0.5): {'BILL_AMT5': {(0, 15900.0): 1.0,\n",
      "                                                                                                                                                                                                                                     (1, 15900.0): {'PAY_AMT3': {(0, 2555.5): {'PAY_AMT5': {(0, 890.5): 1.0,\n",
      "                                                                                                                                                                                                                                                                                            (1, 890.5): {'PAY_AMT5': {(0, 2500.0): {'PAYMENT_DELAY_AUGUST': {(0, 2.5): 0.0,\n",
      "                                                                                                                                                                                                                                                                                                                                                             (1, 2.5): 1.0}},\n",
      "                                                                                                                                                                                                                                                                                                                      (1, 2500.0): 1.0}}}},\n",
      "                                                                                                                                                                                                                                                                 (1, 2555.5): 1.0}}}}}},\n",
      "                                                                                                                                                                            (1, 6372.5): {'BILL_AMT1': {(0, 235014.5): 0.0,\n",
      "                                                                                                                                                                                                        (1, 235014.5): 1.0}}}}}}}},\n",
      "                                                                                            (1, 584.5): {'BILL_AMT2': {(0, 1461.0): {'SEX': {(0, 1.5): 1.0,\n",
      "                                                                                                                                             (1, 1.5): {'PAY_AMT2': {(0, 704.5): {'PAY_AMT5': {(0, 967.5): {'BILL_AMT5': {(0, 903.5): 0.0,\n",
      "                                                                                                                                                                                                                          (1, 903.5): 1.0}},\n",
      "                                                                                                                                                                                               (1, 967.5): 1.0}},\n",
      "                                                                                                                                                                     (1, 704.5): 0.0}}}},\n",
      "                                                                                                                       (1, 1461.0): {'PAY_AMT5': {(0, 1911.5): 1.0,\n",
      "                                                                                                                                                  (1, 1911.5): {'PAY_AMT3': {(0, 11929.0): {'AGE': {(0, 1.5): 1.0,\n",
      "                                                                                                                                                                                                    (1, 1.5): {'PAY_AMT1': {(0, 8400.0): {'BILL_AMT5': {(0, 29380.5): {'LIMIT_BAL': {(0, 45000.0): 1.0,\n",
      "                                                                                                                                                                                                                                                                                     (1, 45000.0): 0.0}},\n",
      "                                                                                                                                                                                                                                                        (1, 29380.5): 1.0}},\n",
      "                                                                                                                                                                                                                            (1, 8400.0): 0.0}}}},\n",
      "                                                                                                                                                                             (1, 11929.0): 0.0}}}}}}}},\n",
      "                                                                    (1, 1.5): {'PAY_AMT5': {(0, 2006.0): {'PAY_AMT3': {(0, 2476.0): {'PAY_AMT3': {(0, 2426.0): {'PAYMENT_DELAY_JULY': {(0, 1.0): 1.0,\n",
      "                                                                                                                                                                                       (1, 1.0): {'LIMIT_BAL': {(0, 65000.0): {'PAY_AMT3': {(0, 1867.0): 1.0,\n",
      "                                                                                                                                                                                                                                            (1, 1867.0): {'BILL_AMT4': {(0, 26027.0): {'BILL_AMT5': {(0, 22592.0): 1.0,\n",
      "                                                                                                                                                                                                                                                                                                     (1, 22592.0): 0.0}},\n",
      "                                                                                                                                                                                                                                                                        (1, 26027.0): 1.0}}}},\n",
      "                                                                                                                                                                                                                (1, 65000.0): {'AGE': {(0, 1.5): 1.0,\n",
      "                                                                                                                                                                                                                                       (1, 1.5): {'BILL_AMT4': {(0, 455.5): 0.0,\n",
      "                                                                                                                                                                                                                                                                (1, 455.5): {'LIMIT_BAL': {(0, 335000.0): {'PAYMENT_DELAY_MAY': {(0, 4.5): {'PAYMENT_DELAY_MAY': {(0, 1.0): {'BILL_AMT5': {(0, 29979.5): {'AGE': {(0, 2.5): 1.0,\n",
      "                                                                                                                                                                                                                                                                                                                                                                                                                  (1, 2.5): 0.0}},\n",
      "                                                                                                                                                                                                                                                                                                                                                                                           (1, 29979.5): {'BILL_AMT5': {(0, 52494.0): 0.0,\n",
      "                                                                                                                                                                                                                                                                                                                                                                                                                        (1, 52494.0): 1.0}}}},\n",
      "                                                                                                                                                                                                                                                                                                                                                                  (1, 1.0): 1.0}},\n",
      "                                                                                                                                                                                                                                                                                                                                 (1, 4.5): 0.0}},\n",
      "                                                                                                                                                                                                                                                                                           (1, 335000.0): 0.0}}}}}}}}}},\n",
      "                                                                                                                                                  (1, 2426.0): 0.0}},\n",
      "                                                                                                                       (1, 2476.0): 1.0}},\n",
      "                                                                                            (1, 2006.0): {'PAY_AMT3': {(0, 13075.0): 1.0,\n",
      "                                                                                                                       (1, 13075.0): {'PAY_AMT3': {(0, 13894.0): 0.0,\n",
      "                                                                                                                                                   (1, 13894.0): 1.0}}}}}}}}}}\n"
     ]
    }
   ],
   "source": [
    "tree = ID3(train, train)\n",
    "pprint(tree)"
   ]
  },
  {
   "cell_type": "markdown",
   "metadata": {},
   "source": [
    "## Part 2\n",
    "Get the training and test error of the classiﬁer in part (1), where test error is measured on the data in pa2test.txt\n",
    "* training error: 0.0\n",
    "* test error: 0.173"
   ]
  },
  {
   "cell_type": "code",
   "execution_count": 77,
   "metadata": {},
   "outputs": [],
   "source": [
    "def predict(query, tree, default = 1.0):\n",
    "    for key in list(query.keys()):\n",
    "        if key in list(tree.keys()):\n",
    "            thd = list(tree[key].keys())[0][1]\n",
    "            # (0, threshold) is < threshold\n",
    "            if query[key] < thd:\n",
    "                result = tree[key][(0, thd)]\n",
    "            # (1, threshold) is >= threshold\n",
    "            else:\n",
    "                result = tree[key][(1, thd)]\n",
    "            if isinstance(result, dict):\n",
    "                return predict(query, result)\n",
    "            else:\n",
    "                return result"
   ]
  },
  {
   "cell_type": "code",
   "execution_count": 90,
   "metadata": {},
   "outputs": [],
   "source": [
    "def test(df, tree):\n",
    "    queries = df.iloc[:, :-1].to_dict(orient = 'records')\n",
    "    pred = pd.DataFrame(columns=['pred'])\n",
    "    for i in range(len(df)):\n",
    "        pred.loc[i, 'pred'] = predict(queries[i], tree, 1.0)\n",
    "    error = 1 - np.mean(pred['pred'] == df['y'])\n",
    "    return error"
   ]
  },
  {
   "cell_type": "code",
   "execution_count": 91,
   "metadata": {
    "scrolled": true
   },
   "outputs": [
    {
     "data": {
      "text/plain": [
       "0.0"
      ]
     },
     "execution_count": 91,
     "metadata": {},
     "output_type": "execute_result"
    }
   ],
   "source": [
    "df = train\n",
    "test(df, tree)"
   ]
  },
  {
   "cell_type": "code",
   "execution_count": 92,
   "metadata": {},
   "outputs": [
    {
     "data": {
      "text/plain": [
       "0.17300000000000004"
      ]
     },
     "execution_count": 92,
     "metadata": {},
     "output_type": "execute_result"
    }
   ],
   "source": [
    "df = test_\n",
    "test(df,tree)"
   ]
  },
  {
   "cell_type": "markdown",
   "metadata": {},
   "source": [
    "## Part 3\n",
    "Prune the decision tree developed in part (1) using the data in pa2validation.txt.\n",
    "\n",
    "| Prune Round | Test Errors | Validation Errors |\n",
    "| --- | --- | --- |\n",
    "| 1 | 0.118 | 0.122 |\n",
    "| 2 | 0.103 | 0.107 |\n"
   ]
  },
  {
   "cell_type": "code",
   "execution_count": 389,
   "metadata": {},
   "outputs": [
    {
     "name": "stdout",
     "output_type": "stream",
     "text": [
      "test error 0.118\n",
      "validation error 0.122\n",
      "test error 0.10299999999999998\n",
      "validation error 0.10699999999999998\n"
     ]
    }
   ],
   "source": [
    "prune(tree)"
   ]
  },
  {
   "cell_type": "code",
   "execution_count": 388,
   "metadata": {
    "scrolled": false
   },
   "outputs": [],
   "source": [
    "def prune(tree):\n",
    "    queue = [tree]\n",
    "    while queue:\n",
    "        temp = []\n",
    "        while queue:\n",
    "            node = queue.pop(0)\n",
    "            # get the name of the feature\n",
    "            key = list(node.keys())[0]\n",
    "            \n",
    "            # internal node\n",
    "            if type(node[key]) != np.float:\n",
    "                # get the splitting rule at this feature\n",
    "                key_l = list(node[key].keys())[0]\n",
    "                key_r = list(node[key].keys())[1]\n",
    "\n",
    "                #get the mode of the table on the left and left hand side\n",
    "                left_mode = stats.mode(train[train[key] < key_l[1]]['y'])[0][0] \n",
    "                right_mode = stats.mode(train[train[key] >= key_r[1]]['y'])[0][0]\n",
    "                \n",
    "                # LEFT ERROR CHECK\n",
    "                #make copy of the original tree\n",
    "                node_l = copy.deepcopy(node)\n",
    "\n",
    "                #change the splitting rule for the T' to be the mode\n",
    "                node_l[key][key_l] = left_mode \n",
    "                #if T' has a least zero error decreased compared to T, \n",
    "                #we change the original T to T'\n",
    "                error_decrease_l = test(validate, node) - test(validate, node_l)\n",
    "                if error_decrease_l >= 0.0:\n",
    "                    node = node_l\n",
    "                error = test(validate, node)\n",
    "                \n",
    "                print('test error', test(test_, node))\n",
    "                print('validation error', test(validate, node))\n",
    "                #add the left node to the queue, if it is not a leaf node\n",
    "                if type(node_l) != np.float:\n",
    "                    temp.append(node_l)\n",
    "            \n",
    "            \n",
    "            \n",
    "                #RIGHT ERROR CHECK\n",
    "                #make copy of the original tree    \n",
    "                node_r = copy.deepcopy(node)\n",
    "                #change the splitting rule for the T' to be the mode\n",
    "                node_r[key][key_r] = right_mode\n",
    "\n",
    "                #if T' has a least zero error decreased compared to T, \n",
    "                #we change the original T to T'\n",
    "                error_decrease_r = test(validate, node) - test(validate, node_r)\n",
    "                \n",
    "                if error_decrease_r >= 0.0:\n",
    "                    node = node_r\n",
    "                error = test(validate, node)\n",
    "                \n",
    "                print('test error', test(test_, node))\n",
    "                print('validation error', test(validate, node))\n",
    "                \n",
    "                #add the right node to the queue, if it is not a leaf node\n",
    "                if type(node_r) != np.float:\n",
    "                    temp.append(node_r)\n",
    "            "
   ]
  },
  {
   "cell_type": "markdown",
   "metadata": {},
   "source": [
    "## Part 4\n",
    "Based on the features provided. Pick the most salient or prominent feature that predicts credit card default.\n",
    "\n",
    "\"PAYMENT_DELAY_SEPTEMBER\""
   ]
  }
 ],
 "metadata": {
  "kernelspec": {
   "display_name": "Python 3",
   "language": "python",
   "name": "python3"
  },
  "language_info": {
   "codemirror_mode": {
    "name": "ipython",
    "version": 3
   },
   "file_extension": ".py",
   "mimetype": "text/x-python",
   "name": "python",
   "nbconvert_exporter": "python",
   "pygments_lexer": "ipython3",
   "version": "3.7.3"
  }
 },
 "nbformat": 4,
 "nbformat_minor": 2
}
