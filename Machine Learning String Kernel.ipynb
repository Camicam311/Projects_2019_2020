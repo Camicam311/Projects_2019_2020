{
 "cells": [
  {
   "cell_type": "code",
   "execution_count": 130,
   "metadata": {},
   "outputs": [],
   "source": [
    "import pandas as pd\n",
    "import numpy as np\n",
    "from scipy import stats \n",
    "import operator"
   ]
  },
  {
   "cell_type": "markdown",
   "metadata": {},
   "source": [
    "# Summary\n",
    "In this problem, we looked at classifying protein sequences according to whether they belong to a particular protein family or not. For this task, we used the string kernel, as well as a modiﬁed version of this kernel. The ﬁles pa4train.txt and pa4test.txt are already downloaded.\n",
    "## Part 1"
   ]
  },
  {
   "cell_type": "code",
   "execution_count": 133,
   "metadata": {},
   "outputs": [
    {
     "data": {
      "text/html": [
       "<div>\n",
       "<style scoped>\n",
       "    .dataframe tbody tr th:only-of-type {\n",
       "        vertical-align: middle;\n",
       "    }\n",
       "\n",
       "    .dataframe tbody tr th {\n",
       "        vertical-align: top;\n",
       "    }\n",
       "\n",
       "    .dataframe thead th {\n",
       "        text-align: right;\n",
       "    }\n",
       "</style>\n",
       "<table border=\"1\" class=\"dataframe\">\n",
       "  <thead>\n",
       "    <tr style=\"text-align: right;\">\n",
       "      <th></th>\n",
       "      <th>train</th>\n",
       "      <th>test</th>\n",
       "    </tr>\n",
       "  </thead>\n",
       "  <tbody>\n",
       "    <tr>\n",
       "      <th>3</th>\n",
       "      <td>0.0134986</td>\n",
       "      <td>0.0422164</td>\n",
       "    </tr>\n",
       "    <tr>\n",
       "      <th>4</th>\n",
       "      <td>0.00964187</td>\n",
       "      <td>0.0356201</td>\n",
       "    </tr>\n",
       "    <tr>\n",
       "      <th>5</th>\n",
       "      <td>0.0101928</td>\n",
       "      <td>0.0646438</td>\n",
       "    </tr>\n",
       "  </tbody>\n",
       "</table>\n",
       "</div>"
      ],
      "text/plain": [
       "        train       test\n",
       "3   0.0134986  0.0422164\n",
       "4  0.00964187  0.0356201\n",
       "5   0.0101928  0.0646438"
      ]
     },
     "execution_count": 133,
     "metadata": {},
     "output_type": "execute_result"
    }
   ],
   "source": [
    "df_1"
   ]
  },
  {
   "cell_type": "markdown",
   "metadata": {},
   "source": [
    "## Part 2"
   ]
  },
  {
   "cell_type": "code",
   "execution_count": 175,
   "metadata": {},
   "outputs": [
    {
     "data": {
      "text/html": [
       "<div>\n",
       "<style scoped>\n",
       "    .dataframe tbody tr th:only-of-type {\n",
       "        vertical-align: middle;\n",
       "    }\n",
       "\n",
       "    .dataframe tbody tr th {\n",
       "        vertical-align: top;\n",
       "    }\n",
       "\n",
       "    .dataframe thead th {\n",
       "        text-align: right;\n",
       "    }\n",
       "</style>\n",
       "<table border=\"1\" class=\"dataframe\">\n",
       "  <thead>\n",
       "    <tr style=\"text-align: right;\">\n",
       "      <th></th>\n",
       "      <th>train</th>\n",
       "      <th>test</th>\n",
       "    </tr>\n",
       "  </thead>\n",
       "  <tbody>\n",
       "    <tr>\n",
       "      <th>3</th>\n",
       "      <td>0.0132231</td>\n",
       "      <td>0.0422164</td>\n",
       "    </tr>\n",
       "    <tr>\n",
       "      <th>4</th>\n",
       "      <td>0.00964187</td>\n",
       "      <td>0.0356201</td>\n",
       "    </tr>\n",
       "    <tr>\n",
       "      <th>5</th>\n",
       "      <td>0.0101928</td>\n",
       "      <td>0.0646438</td>\n",
       "    </tr>\n",
       "  </tbody>\n",
       "</table>\n",
       "</div>"
      ],
      "text/plain": [
       "        train       test\n",
       "3   0.0132231  0.0422164\n",
       "4  0.00964187  0.0356201\n",
       "5   0.0101928  0.0646438"
      ]
     },
     "execution_count": 175,
     "metadata": {},
     "output_type": "execute_result"
    }
   ],
   "source": [
    "df_2"
   ]
  },
  {
   "cell_type": "markdown",
   "metadata": {},
   "source": [
    "## Part 3\n",
    "Find the two coordinates in w with the highest positive values. \n",
    "What are the substrings corresponding to these coordinates? \n",
    "\n",
    "(at the count of 3)\n",
    "* 'WDTAG'\n",
    "* 'DTAGQ'\n",
    "* 'LFLNK'\n",
    "* 'GKSSL'\n",
    "* 'KVGPD'"
   ]
  },
  {
   "cell_type": "code",
   "execution_count": 3,
   "metadata": {},
   "outputs": [
    {
     "data": {
      "text/plain": [
       "('TFGAGEADCGLRPLFEKKQVQDQTEKELFESYIEGRXIVEGQDAEVGLSPWQVMLFRKSPQELLCGASLISDRWVLTAAHCLLYPPWDKNFTVDDLLVRIGKHSRTRYERKVEKISMLDKIYIHPRYNWKENLDRDIALLKLKRPIELSDYIHPVCLPDKQTAAKLLHAGFKGRVTGWGNRRETWTTSVAEVQPSVLQVVNLPLVERPVCKASTRIRITDNMFCAGYKPGEGKRGDACEGDSGGPFVMKSPYNNRWYQMGIVSWGEGCDRDGKYGFYTHVFRLKKWIQKVIDRLGS',\n",
       " -1)"
      ]
     },
     "execution_count": 3,
     "metadata": {},
     "output_type": "execute_result"
    }
   ],
   "source": [
    "tr_x = []\n",
    "tr_y = []\n",
    "f = open(\"pa4train.txt\", \"r\")\n",
    "for x in f:\n",
    "    tr_x.append(x[:-4])\n",
    "    tr_y.append(int(x[-3:-1]))\n",
    "tr_x[0], tr_y[0]"
   ]
  },
  {
   "cell_type": "code",
   "execution_count": 4,
   "metadata": {},
   "outputs": [
    {
     "data": {
      "text/plain": [
       "('DPTQLSPRPPIVTIMGHVDHGKTSLLDAIRQTNTAAKEFGGITQKIGAYQVKNQEGKTITFIDTPGHEAFTGMRARGAQVTDIVVLVVAGDDGLKQQTEEAISHAKSAKTPIIVFINKMDKPTANPDMVIQQLNKFDLVPEEWGGDTIFVKGSALTKEGIQELLDSILLVAEVEDYKANFNAHSSGY',\n",
       " 1)"
      ]
     },
     "execution_count": 4,
     "metadata": {},
     "output_type": "execute_result"
    }
   ],
   "source": [
    "te_x = []\n",
    "te_y = []\n",
    "f = open(\"pa4test.txt\", \"r\")\n",
    "for x in f:\n",
    "    te_x.append(x[:-4])\n",
    "    te_y.append(int(x[-3:-1]))\n",
    "te_x[0], te_y[0]"
   ]
  },
  {
   "cell_type": "markdown",
   "metadata": {},
   "source": [
    "## Part 1\n",
    "First, we will use the string kernel function for our kernel. Recall from class that given two strings s and t, the string kernel Kp(s,t) is the number of substrings of length p that are common to both s and t, where a string that occurs a times in s and b times in t is counted ab times. For this problem, use p = 3, p = 4 and p = 5. Write down the training and test errors of kernel perceptron for p = 3,4,5 on this dataset. "
   ]
  },
  {
   "cell_type": "code",
   "execution_count": 165,
   "metadata": {},
   "outputs": [],
   "source": [
    "class KP():\n",
    "    def __init__(self, p):\n",
    "        self.p = p\n",
    "        self.x = None\n",
    "        self.y = None\n",
    "        self.tr_counts = None\n",
    "        self.te_counts = None\n",
    "        \n",
    "    def count(self, tr_x, te_x):\n",
    "        self.tr_x = tr_x\n",
    "        tr_counts = []\n",
    "        tr_num = len(tr_x)\n",
    "        p = self.p\n",
    "        for i in range(tr_num):\n",
    "            dict = {}\n",
    "            str = tr_x[i]\n",
    "            for j in range(len(str) - p + 1):\n",
    "                sub = str[j:j+p]\n",
    "                if sub in dict.keys():\n",
    "                    dict[sub] += 1\n",
    "                else:\n",
    "                    dict[sub] = 1\n",
    "            tr_counts.append(dict)\n",
    "        self.tr_counts = tr_counts\n",
    "    \n",
    "        if tr_x == te_x:\n",
    "            self.te_counts = self.tr_counts\n",
    "        \n",
    "        else:\n",
    "            self.te_x = te_x\n",
    "            te_counts = []\n",
    "            te_num = len(te_x)\n",
    "            for i in range(te_num):\n",
    "                dict = {}\n",
    "                str = te_x[i]\n",
    "                for j in range(len(str) - p + 1):\n",
    "                    sub = str[j:j+p]\n",
    "                    if sub in dict.keys():\n",
    "                        dict[sub] += 1\n",
    "                    else:\n",
    "                        dict[sub] = 1\n",
    "                te_counts.append(dict)\n",
    "            self.te_counts = te_counts\n",
    "            \n",
    "            \n",
    "    def similarity(self, i, j, bool):\n",
    "        total = 0\n",
    "        if bool:\n",
    "            s = self.tr_counts[i]\n",
    "        else:\n",
    "            s = self.te_counts[i]\n",
    "        t = self.tr_counts[j]\n",
    "        for key in s.keys():\n",
    "            if key in t.keys():\n",
    "                total += s[key] * t[key]\n",
    "        return total\n",
    "    \n",
    "    def predict(self, i, bool):\n",
    "        res = 0\n",
    "        for j in np.where(self.err == 1)[0]:\n",
    "            res += self.tr_y[j] * self.similarity(i, j, bool)\n",
    "        return res\n",
    "    \n",
    "    def train(self, y):\n",
    "        self.tr_y = y\n",
    "        num = len(y)\n",
    "        self.err = np.zeros(num)\n",
    "        for i in range(num):\n",
    "            if y[i] * self.predict(i, True) <= 0:\n",
    "                self.err[i] = 1\n",
    "                \n",
    "    def score(self, te_y):\n",
    "        loss = 0\n",
    "        num = len(te_y)\n",
    "        for i in range(num):\n",
    "            if te_y[i] * self.predict(i, False) <= 0:\n",
    "                loss += 1\n",
    "        return loss/len(te_y)"
   ]
  },
  {
   "cell_type": "code",
   "execution_count": 166,
   "metadata": {},
   "outputs": [
    {
     "data": {
      "text/plain": [
       "0.07134986225895316"
      ]
     },
     "execution_count": 166,
     "metadata": {},
     "output_type": "execute_result"
    }
   ],
   "source": [
    "kp = KP(p=2)\n",
    "kp.count(tr_x, tr_x)\n",
    "kp.train(tr_y)\n",
    "kp.score(tr_y)"
   ]
  },
  {
   "cell_type": "code",
   "execution_count": 111,
   "metadata": {},
   "outputs": [
    {
     "data": {
      "text/html": [
       "<div>\n",
       "<style scoped>\n",
       "    .dataframe tbody tr th:only-of-type {\n",
       "        vertical-align: middle;\n",
       "    }\n",
       "\n",
       "    .dataframe tbody tr th {\n",
       "        vertical-align: top;\n",
       "    }\n",
       "\n",
       "    .dataframe thead th {\n",
       "        text-align: right;\n",
       "    }\n",
       "</style>\n",
       "<table border=\"1\" class=\"dataframe\">\n",
       "  <thead>\n",
       "    <tr style=\"text-align: right;\">\n",
       "      <th></th>\n",
       "      <th>train</th>\n",
       "      <th>test</th>\n",
       "    </tr>\n",
       "  </thead>\n",
       "  <tbody>\n",
       "    <tr>\n",
       "      <th>3</th>\n",
       "      <td>0.0134986</td>\n",
       "      <td>0.0422164</td>\n",
       "    </tr>\n",
       "    <tr>\n",
       "      <th>4</th>\n",
       "      <td>0.00964187</td>\n",
       "      <td>0.0356201</td>\n",
       "    </tr>\n",
       "    <tr>\n",
       "      <th>5</th>\n",
       "      <td>0.0101928</td>\n",
       "      <td>0.0646438</td>\n",
       "    </tr>\n",
       "  </tbody>\n",
       "</table>\n",
       "</div>"
      ],
      "text/plain": [
       "        train       test\n",
       "3   0.0134986  0.0422164\n",
       "4  0.00964187  0.0356201\n",
       "5   0.0101928  0.0646438"
      ]
     },
     "execution_count": 111,
     "metadata": {},
     "output_type": "execute_result"
    }
   ],
   "source": [
    "df_1 = pd.DataFrame(columns=['train', 'test'])\n",
    "for p in [3, 4, 5]:\n",
    "    kp_tr = KP(p=p)\n",
    "    kp_tr.count(tr_x, tr_x)\n",
    "    kp_tr.train(tr_y)\n",
    "    df_1.loc[p, 'train'] = kp_tr.score(tr_y)\n",
    "    kp_te = KP(p=p)\n",
    "    kp_te.count(tr_x, te_x)\n",
    "    kp_te.train(tr_y)\n",
    "    df_1.loc[p, 'test'] = kp_te.score(te_y)\n",
    "df_1"
   ]
  },
  {
   "cell_type": "markdown",
   "metadata": {},
   "source": [
    "## Part 2\n",
    "Next, repeat Part (1) with a slight modiﬁcation of the string kernel, Mp(s,t). Given two strings s and t, the modiﬁed string kernel Mp(s,t) is the number of substrings of length p that are common to both s and t, where a string that occurs a times in s and b times in t is counted only once. What are the training and test errors for this kernel for p = 3,4,5? "
   ]
  },
  {
   "cell_type": "code",
   "execution_count": 173,
   "metadata": {},
   "outputs": [],
   "source": [
    "class KP_2():\n",
    "    def __init__(self, p):\n",
    "        self.p = p\n",
    "        self.x = None\n",
    "        self.y = None\n",
    "        self.tr_counts = None\n",
    "        self.te_counts = None\n",
    "        \n",
    "    def count(self, tr_x, te_x):\n",
    "        self.tr_x = tr_x\n",
    "        tr_counts = []\n",
    "        tr_num = len(tr_x)\n",
    "        p = self.p\n",
    "        for i in range(tr_num):\n",
    "            dict = []\n",
    "            str = tr_x[i]\n",
    "            for j in range(len(str) - p + 1):\n",
    "                sub = str[j:j+p]\n",
    "                if sub not in dict:\n",
    "                    dict.append(sub)\n",
    "            tr_counts.append(dict)\n",
    "        self.tr_counts = tr_counts\n",
    "    \n",
    "        if len(tr_x) == len(te_x):\n",
    "            self.te_counts = self.tr_counts\n",
    "        \n",
    "        else:\n",
    "            self.te_x = te_x\n",
    "            te_counts = []\n",
    "            te_num = len(te_x)\n",
    "            for i in range(te_num):\n",
    "                dict = []\n",
    "                str = te_x[i]\n",
    "                for j in range(len(str) - p + 1):\n",
    "                    sub = str[j:j+p]\n",
    "                    if sub not in dict:\n",
    "                        dict.append(sub)\n",
    "                te_counts.append(dict)\n",
    "            self.te_counts = te_counts\n",
    "            \n",
    "            \n",
    "    def similarity(self, i, j, bool):\n",
    "        total = 0\n",
    "        if bool:\n",
    "            s = self.tr_counts[i]\n",
    "        else:\n",
    "            s = self.te_counts[i]\n",
    "        t = self.tr_counts[j]\n",
    "        return len(set(s)&set(t))\n",
    "    \n",
    "    def predict(self, i, bool):\n",
    "        res = 0\n",
    "        for j in np.where(self.err == 1)[0]:\n",
    "            res += self.tr_y[j] * self.similarity(i, j, bool)\n",
    "        return res\n",
    "    \n",
    "    def train(self, y):\n",
    "        self.tr_y = y\n",
    "        num = len(y)\n",
    "        # err is a list of a size of the training data\n",
    "        self.err = np.zeros(num)\n",
    "        for i in range(num):\n",
    "            if y[i] * self.predict(i, True) <= 0:\n",
    "                # whenever there is an error, i update the err with 1, err is like w\n",
    "                self.err[i] = 1\n",
    "                \n",
    "    def score(self, te_y):\n",
    "        loss = 0\n",
    "        num = len(te_y)\n",
    "        for i in range(num):\n",
    "            if te_y[i] * self.predict(i, False) <= 0:\n",
    "                loss += 1\n",
    "        return loss/len(te_y)"
   ]
  },
  {
   "cell_type": "code",
   "execution_count": 174,
   "metadata": {},
   "outputs": [
    {
     "data": {
      "text/html": [
       "<div>\n",
       "<style scoped>\n",
       "    .dataframe tbody tr th:only-of-type {\n",
       "        vertical-align: middle;\n",
       "    }\n",
       "\n",
       "    .dataframe tbody tr th {\n",
       "        vertical-align: top;\n",
       "    }\n",
       "\n",
       "    .dataframe thead th {\n",
       "        text-align: right;\n",
       "    }\n",
       "</style>\n",
       "<table border=\"1\" class=\"dataframe\">\n",
       "  <thead>\n",
       "    <tr style=\"text-align: right;\">\n",
       "      <th></th>\n",
       "      <th>train</th>\n",
       "      <th>test</th>\n",
       "    </tr>\n",
       "  </thead>\n",
       "  <tbody>\n",
       "    <tr>\n",
       "      <th>3</th>\n",
       "      <td>0.0132231</td>\n",
       "      <td>0.0422164</td>\n",
       "    </tr>\n",
       "    <tr>\n",
       "      <th>4</th>\n",
       "      <td>0.00964187</td>\n",
       "      <td>0.0356201</td>\n",
       "    </tr>\n",
       "    <tr>\n",
       "      <th>5</th>\n",
       "      <td>0.0101928</td>\n",
       "      <td>0.0646438</td>\n",
       "    </tr>\n",
       "  </tbody>\n",
       "</table>\n",
       "</div>"
      ],
      "text/plain": [
       "        train       test\n",
       "3   0.0132231  0.0422164\n",
       "4  0.00964187  0.0356201\n",
       "5   0.0101928  0.0646438"
      ]
     },
     "execution_count": 174,
     "metadata": {},
     "output_type": "execute_result"
    }
   ],
   "source": [
    "df_2 = pd.DataFrame(columns=['train', 'test'])\n",
    "for p in [3, 4, 5]:\n",
    "    kp_tr = KP_2(p=p)\n",
    "    kp_tr.count(tr_x, tr_x)\n",
    "    kp_tr.train(tr_y)\n",
    "    df_2.loc[p, 'train'] = kp_tr.score(tr_y)\n",
    "    kp_te = KP(p=p)\n",
    "    kp_te.count(tr_x, te_x)\n",
    "    kp_te.train(tr_y)\n",
    "    df_2.loc[p, 'test'] = kp_te.score(te_y)\n",
    "df_2"
   ]
  },
  {
   "cell_type": "markdown",
   "metadata": {},
   "source": [
    "## Part 3\n",
    "Find the two coordinates in w with the highest positive values. You should be able to do this without explicitly computing all the coordinates of w. What are the substrings corresponding to these coordinates? These coordinates correspond to those substrings whose presence most strongly indicates that the protein belongs in the family."
   ]
  },
  {
   "cell_type": "code",
   "execution_count": 155,
   "metadata": {},
   "outputs": [],
   "source": [
    "class KP_3():\n",
    "    def __init__(self, p):\n",
    "        self.p = p\n",
    "        self.x = None\n",
    "        self.y = None\n",
    "        self.tr_counts = None\n",
    "        self.te_counts = None\n",
    "        \n",
    "    def count(self, tr_x):\n",
    "        self.tr_x = tr_x\n",
    "        tr_counts = []\n",
    "        tr_num = len(tr_x)\n",
    "        p = self.p\n",
    "        for i in range(tr_num):\n",
    "            dict = {}\n",
    "            str = tr_x[i]\n",
    "            for j in range(len(str) - p + 1):\n",
    "                sub = str[j:j+p]\n",
    "                if sub in dict.keys():\n",
    "                    dict[sub] += 1\n",
    "                else:\n",
    "                    dict[sub] = 1\n",
    "            tr_counts.append(dict)\n",
    "        self.tr_counts = tr_counts\n",
    "        return self.tr_counts   \n",
    "            \n",
    "    def similarity(self, i, j, bool):\n",
    "        total = 0\n",
    "        if bool:\n",
    "            s = self.tr_counts[i]\n",
    "        else:\n",
    "            s = self.te_counts[i]\n",
    "        t = self.tr_counts[j]\n",
    "        for key in s.keys():\n",
    "            if key in t.keys():\n",
    "                total += s[key] * t[key]\n",
    "        return total\n",
    "    \n",
    "    def predict(self, i, bool):\n",
    "        res = 0\n",
    "        for j in np.where(self.err == 1)[0]:\n",
    "            res += self.tr_y[j] * self.similarity(i, j, bool)\n",
    "        return res\n",
    "    \n",
    "    def train(self, y):\n",
    "        self.tr_y = y\n",
    "        num = len(y)\n",
    "        self.err = np.zeros(num)\n",
    "        for i in range(num):\n",
    "            if y[i] * self.predict(i, True) <= 0:\n",
    "                self.err[i] = 1\n",
    "        return self.err"
   ]
  },
  {
   "cell_type": "code",
   "execution_count": 156,
   "metadata": {},
   "outputs": [],
   "source": [
    "kp = KP_3(p=5)\n",
    "count = kp.count(tr_x)\n",
    "err = kp.train(tr_y)"
   ]
  },
  {
   "cell_type": "code",
   "execution_count": 169,
   "metadata": {},
   "outputs": [],
   "source": [
    "strings = {}\n",
    "for i in range(len(err)):\n",
    "    # if it is a misclassified row\n",
    "    if err[i] == 1.:\n",
    "        # get the label\n",
    "        y = tr_y[i]\n",
    "        # get the dinctionary \n",
    "        dict = count[i]\n",
    "        for j in dict.keys():\n",
    "            if j in strings.keys():\n",
    "                strings[j] += y * dict[j]\n",
    "            else:\n",
    "                strings[j] = y * dict[j]"
   ]
  },
  {
   "cell_type": "code",
   "execution_count": 170,
   "metadata": {},
   "outputs": [
    {
     "data": {
      "text/plain": [
       "[('WDTAG', 3),\n",
       " ('DTAGQ', 3),\n",
       " ('LFLNK', 3),\n",
       " ('GKSSL', 3),\n",
       " ('KVGPD', 3),\n",
       " ('TAGQE', 2),\n",
       " ('YYRGA', 2),\n",
       " ('NKCDM', 2),\n",
       " ('TVKLL', 2),\n",
       " ('KLLLL', 2)]"
      ]
     },
     "execution_count": 170,
     "metadata": {},
     "output_type": "execute_result"
    }
   ],
   "source": [
    "listofTuples = sorted(strings.items() , reverse=True, key=lambda x: x[1])\n",
    "listofTuples[:10]"
   ]
  },
  {
   "cell_type": "markdown",
   "metadata": {},
   "source": [
    "### Part 3\n",
    "Find the two coordinates in w with the highest positive values. \n",
    "What are the substrings corresponding to these coordinates? \n",
    "* 'WDTAG'\n",
    "* 'DTAGQ'\n",
    "* 'LFLNK'\n",
    "* 'GKSSL'\n",
    "* 'KVGPD'"
   ]
  }
 ],
 "metadata": {
  "kernelspec": {
   "display_name": "Python 3",
   "language": "python",
   "name": "python3"
  },
  "language_info": {
   "codemirror_mode": {
    "name": "ipython",
    "version": 3
   },
   "file_extension": ".py",
   "mimetype": "text/x-python",
   "name": "python",
   "nbconvert_exporter": "python",
   "pygments_lexer": "ipython3",
   "version": "3.7.3"
  }
 },
 "nbformat": 4,
 "nbformat_minor": 2
}
